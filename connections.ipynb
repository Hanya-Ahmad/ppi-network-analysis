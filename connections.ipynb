{
 "cells": [
  {
   "cell_type": "code",
   "execution_count": 46,
   "metadata": {},
   "outputs": [],
   "source": [
    "#This cell creates the csv file to be used in the entire project\n",
    "import pandas as pd\n",
    "import csv\n",
    "\n",
    "data=[]\n",
    "\n",
    "#read text file to extract data\n",
    "with open(\"./PathLinker_2018_human-ppi-weighted-cap0_75.txt\",'r') as data_file:\n",
    "    for line in data_file:\n",
    "        line.strip\n",
    "        appended = line.split(maxsplit=3)\n",
    "        #data is a list of lists of strings, each string represents a cell in the text file\n",
    "        data.append(appended)\n",
    "\n",
    "tail = []\n",
    "head = []\n",
    "edge_weight = []\n",
    "edge_type=[]\n",
    "\n",
    "#append each column in a list\n",
    "for i in data:\n",
    "   tail.append(i[0].strip(\"#\"))\n",
    "   head.append(i[1])\n",
    "   edge_weight.append(i[2])\n",
    "   edge_type.append(i[3].strip())\n",
    "\n",
    "#zip the 4 columns into rows\n",
    "rows = zip(tail, head, edge_weight, edge_type)\n",
    "\n",
    "#write the rows in a csv file\n",
    "with open(\"./PathLinker_2018_human-ppi-weighted-cap0_75.csv\", \"w\", newline=\"\") as f:\n",
    "    writer = csv.writer(f)\n",
    "    for row in rows:\n",
    "        writer.writerow(row)\n"
   ]
  },
  {
   "cell_type": "code",
   "execution_count": 58,
   "metadata": {},
   "outputs": [
    {
     "name": "stdout",
     "output_type": "stream",
     "text": [
      "          tail    head  edge_weight  \\\n",
      "15      Q5MIZ7  Q8N490     0.311133   \n",
      "16      Q5MIZ7  Q53ET0     0.493089   \n",
      "17      Q5MIZ7  P51648     0.311133   \n",
      "18      Q5MIZ7  P04629     0.311133   \n",
      "19      Q5MIZ7  P46379     0.311133   \n",
      "...        ...     ...          ...   \n",
      "445991  Q9NY27  Q5MIZ7     0.750000   \n",
      "468151  Q9H0B6  Q5MIZ7     0.201461   \n",
      "497841  Q8N490  Q5MIZ7     0.311133   \n",
      "511953  P33176  Q5MIZ7     0.201461   \n",
      "571020  Q16719  Q5MIZ7     0.201461   \n",
      "\n",
      "                                                edge_type  \n",
      "15           MI:0004 (affinity chromatography technology)  \n",
      "16                      KEGG inhibition,dephosphorylation  \n",
      "17           MI:0004 (affinity chromatography technology)  \n",
      "18           MI:0004 (affinity chromatography technology)  \n",
      "19           MI:0004 (affinity chromatography technology)  \n",
      "...                                                   ...  \n",
      "445991  MI:0676 (tandem affinity purification)|MI:0004...  \n",
      "468151                              MI:0401 (biochemical)  \n",
      "497841       MI:0004 (affinity chromatography technology)  \n",
      "511953                              MI:0401 (biochemical)  \n",
      "571020                              MI:0401 (biochemical)  \n",
      "\n",
      "[64 rows x 4 columns]\n",
      "31\n",
      "33\n"
     ]
    }
   ],
   "source": [
    "#This cell lists all directly connected proteins to a picked protein\n",
    "import numpy as np\n",
    "df = pd.read_csv(\"./PathLinker_2018_human-ppi-weighted-cap0_75.csv\")\n",
    "tail = df['tail']\n",
    "head = df['head']\n",
    "edge_weight = df['edge_weight']\n",
    "edge_type = df['edge_type']\n",
    "\n",
    "protein = \"Q5MIZ7\"\n",
    "protein_df = df[df.eq(protein).any(axis=1)]\n",
    "np.savetxt(r'./protein_connections.txt', protein_df.iloc[:,:3], fmt='%s')\n",
    "\n",
    "print(protein_df)\n",
    "in_degree = len(protein_df.loc[protein_df['head'] == protein])\n",
    "out_degree = len(protein_df.loc[protein_df['tail'] == protein])\n",
    "with open(\"./protein_connections.txt\", \"a\") as f:\n",
    "    f.write(\"In degree: \")\n",
    "    f.write(str(in_degree) + \"\\n\")\n",
    "    f.write(\"Out degree: \")\n",
    "    f.write(str(out_degree) + \"\\n\")\n",
    "print(in_degree)\n",
    "print(out_degree)\n",
    "\n"
   ]
  }
 ],
 "metadata": {
  "kernelspec": {
   "display_name": "Python 3",
   "language": "python",
   "name": "python3"
  },
  "language_info": {
   "codemirror_mode": {
    "name": "ipython",
    "version": 3
   },
   "file_extension": ".py",
   "mimetype": "text/x-python",
   "name": "python",
   "nbconvert_exporter": "python",
   "pygments_lexer": "ipython3",
   "version": "3.10.8"
  },
  "orig_nbformat": 4,
  "vscode": {
   "interpreter": {
    "hash": "215c25522ce626c25f32f51be89d4bc981d3329550e0f0c40621331c7b4ce99b"
   }
  }
 },
 "nbformat": 4,
 "nbformat_minor": 2
}
