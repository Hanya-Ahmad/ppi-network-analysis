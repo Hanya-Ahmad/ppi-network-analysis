{
 "cells": [
  {
   "cell_type": "code",
   "execution_count": 36,
   "source": [
    "#This cell creates the csv file to be used in the entire project\r\n",
    "import pandas as pd\r\n",
    "import csv\r\n",
    "\r\n",
    "data=[]\r\n",
    "\r\n",
    "#Read text file to extract data\r\n",
    "with open(\"./PathLinker_2018_human-ppi-weighted-cap0_75.txt\",'r') as data_file:\r\n",
    "    for line in data_file:\r\n",
    "        #Divide the data by whitespace into 4 columns\r\n",
    "        appended = line.split(maxsplit=3)\r\n",
    "\r\n",
    "        #Data is a list of lists of strings, where each string represents a cell in the text file\r\n",
    "        data.append(appended)\r\n",
    "\r\n",
    "tail = []\r\n",
    "head = []\r\n",
    "edge_weight = []\r\n",
    "edge_type=[]\r\n",
    "\r\n",
    "#Append each column in a list\r\n",
    "for i in data:\r\n",
    "   #Clean column names for convenience\r\n",
    "   tail.append(i[0].strip(\"#\"))\r\n",
    "   head.append(i[1])\r\n",
    "   edge_weight.append(i[2])\r\n",
    "   edge_type.append(i[3].strip())\r\n",
    "\r\n",
    "#Zip the 4 columns into rows\r\n",
    "rows = zip(tail, head, edge_weight, edge_type)\r\n",
    "\r\n",
    "#Write the rows in a csv file\r\n",
    "with open(\"./PathLinker_2018_human-ppi-weighted-cap0_75.csv\", \"w\", newline=\"\") as f:\r\n",
    "    writer = csv.writer(f)\r\n",
    "    for row in rows:\r\n",
    "        writer.writerow(row)\r\n"
   ],
   "outputs": [],
   "metadata": {}
  },
  {
   "cell_type": "code",
   "execution_count": null,
   "source": [],
   "outputs": [],
   "metadata": {}
  },
  {
   "cell_type": "code",
   "execution_count": 37,
   "source": [
    "#This cell lists all directly connected proteins to a picked protein\r\n",
    "\r\n",
    "import numpy as np\r\n",
    "df = pd.read_csv(\"PathLinker_2018_human-ppi-weighted-cap0_75.csv\")\r\n",
    "\r\n",
    "#Define dataframe columns\r\n",
    "tail = df['tail']\r\n",
    "head = df['head']\r\n",
    "edge_weight = df['edge_weight']\r\n",
    "edge_type = df['edge_type']\r\n",
    "\r\n",
    "#Find the most common protein in all PPIs \r\n",
    "most_common_protein=df.mode()\r\n",
    "if(most_common_protein['tail'][0]==most_common_protein['head'][0]):\r\n",
    "    protein = most_common_protein['tail'][0]\r\n",
    "else:\r\n",
    "    protein = \"P05067\"\r\n",
    "\r\n",
    "#Extract the rows where said protein is a tail or head into a new dataframe\r\n",
    "protein_df = df[df.eq(protein).any(axis=1)]\r\n",
    "protein_df=protein_df.iloc[:,:3]\r\n",
    "\r\n",
    "#Remove the protein name from the dataframe for better readability\r\n",
    "protein_list=protein_df.values.tolist()\r\n",
    "for row in protein_list:\r\n",
    "    if(row[0]==protein):\r\n",
    "        row.append(\"Out\")\r\n",
    "    if(row[1]==protein):\r\n",
    "        row.append(\"In\")\r\n",
    "    row.remove(protein)\r\n",
    "    \r\n",
    "#Save the list of rows as a dataframe\r\n",
    "modified_protein_df = pd.DataFrame(protein_list)\r\n",
    "\r\n",
    "#Save the first resulting dataframe into a text file\r\n",
    "np.savetxt(r'./protein_connections.txt', modified_protein_df, fmt='%s')\r\n",
    "\r\n",
    "#Calculate in and out degrees of the picked protein\r\n",
    "in_degree = len(protein_df.loc[protein_df['head'] == protein])\r\n",
    "out_degree = len(protein_df.loc[protein_df['tail'] == protein])\r\n",
    "\r\n",
    "#Append the in and out degrees of the protein into the protein_connections.txt file\r\n",
    "with open(\"protein_connections.txt\", \"a\") as f:\r\n",
    "    f.write(\"In degree: \")\r\n",
    "    f.write(str(in_degree) + \"\\n\")\r\n",
    "    f.write(\"Out degree: \")\r\n",
    "    f.write(str(out_degree) + \"\\n\")"
   ],
   "outputs": [],
   "metadata": {}
  }
 ],
 "metadata": {
  "kernelspec": {
   "display_name": "Python 3",
   "language": "python",
   "name": "python3"
  },
  "language_info": {
   "codemirror_mode": {
    "name": "ipython",
    "version": 3
   },
   "file_extension": ".py",
   "mimetype": "text/x-python",
   "name": "python",
   "nbconvert_exporter": "python",
   "pygments_lexer": "ipython3",
   "version": "3.10.8"
  },
  "orig_nbformat": 4,
  "vscode": {
   "interpreter": {
    "hash": "215c25522ce626c25f32f51be89d4bc981d3329550e0f0c40621331c7b4ce99b"
   }
  }
 },
 "nbformat": 4,
 "nbformat_minor": 2
}