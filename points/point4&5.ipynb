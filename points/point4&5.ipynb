{
 "cells": [
  {
   "cell_type": "code",
   "execution_count": 1,
   "source": [
    "# imports\r\n",
    "import networkx as nX\r\n",
    "import matplotlib.pyplot as plt\r\n",
    "import pandas as pd \r\n",
    "import numpy as np\r\n",
    "from unipressed import IdMappingClient\r\n",
    "import time\r\n",
    "from collections import Counter\r\n",
    "import os"
   ],
   "outputs": [],
   "metadata": {}
  },
  {
   "cell_type": "code",
   "execution_count": 7,
   "source": [
    "# Read the Csv file\r\n",
    "path = '../pathLinkerData/PathLinker_2018_human-ppi-weighted-cap0_75.csv'\r\n",
    "df = pd.read_csv(path)"
   ],
   "outputs": [],
   "metadata": {}
  },
  {
   "cell_type": "code",
   "execution_count": null,
   "source": [
    "# initializing the Graph\r\n",
    "Graph = nX.Graph()\r\n",
    "for i in range(5000):\r\n",
    "    tail=df['#tail'][i] # first column as node\r\n",
    "    head=df['head'][i]# second column as  node\r\n",
    "    weight=df['edge_weight'][i] # third column as edge cost/weight\r\n",
    "    Graph.add_weighted_edges_from([(head,tail,weight)])"
   ],
   "outputs": [],
   "metadata": {}
  },
  {
   "cell_type": "code",
   "execution_count": null,
   "source": [
    "# Network Graph\r\n",
    "#position nodes \r\n",
    "pos = nX.spring_layout(Graph)\r\n",
    "#calculate betweeness centrality \r\n",
    "betCent = nX.betweenness_centrality(Graph, normalized=True, endpoints=True)\r\n",
    "# node size varies with betweeness centrality\r\n",
    "node_size =  [v * 10000 for v in betCent.values()]\r\n",
    "\r\n",
    "#create figure\r\n",
    "plt.figure(figsize=(20,20))\r\n",
    "nX.draw_networkx(Graph, pos=pos, with_labels=False, node_size=node_size)\r\n",
    "plt.axis('off')\r\n",
    "plt.savefig('./Graphs/Graph.jpg')\r\n",
    "plt.show()"
   ],
   "outputs": [],
   "metadata": {}
  },
  {
   "cell_type": "code",
   "execution_count": null,
   "source": [
    "#take degrees from the network\r\n",
    "degree_sequence = sorted([d for n, d in Graph.degree()], reverse=True)\r\n",
    "#count  degree frequency\r\n",
    "degreeCount = Counter(degree_sequence)\r\n",
    "plt.hist(degreeCount, bins='auto') #auto bin size is used\r\n",
    "plt.title(\"Degree Histogram\")\r\n",
    "plt.xlabel(\"Degree\")\r\n",
    "plt.ylabel(\"Nodes\")\r\n",
    "plt.savefig('./Graphs/histogram.jpg')\r\n",
    "plt.show()\r\n",
    "#save the proteins in csv with its coressponding degrees\r\n",
    "to_arr =np.array(Graph.degree())\r\n",
    "proteins = []\r\n",
    "coressponding_degree = []\r\n",
    "for i in range (0,len(to_arr),1):\r\n",
    "    proteins.append(to_arr[i,0])\r\n",
    "    coressponding_degree.append(to_arr[i,1])\r\n",
    "df = pd.DataFrame({\"Protein\" : proteins, \"Degree\" :coressponding_degree })\r\n",
    "df.to_csv(\"./Csv Files/nonsorted.csv\", index=False)\r\n",
    "# sorting from highest to lowest rank according to connections\r\n",
    "sort = pd.read_csv('./Csv Files/nonsorted.csv')\r\n",
    "sort.sort_values([\"Degree\"],ascending=[False],inplace = True)\r\n",
    "degreeCount = Counter(degree_sequence)\r\n",
    "sort.to_csv(\"./Csv Files/sorted_setOfProteins.csv\",index=False)\r\n",
    "os.remove('./Csv Files/nonsorted.csv')"
   ],
   "outputs": [],
   "metadata": {}
  },
  {
   "cell_type": "code",
   "execution_count": 5,
   "source": [
    "#Convert ONE UniProtID to its coressponding Gene Name\r\n",
    "request_Protein = IdMappingClient.submit(\r\n",
    "    source=\"UniProtKB_AC-ID\", dest=\"Gene_Name\", ids={\"Q6UXB4\"})\r\n",
    "print(list((request_Protein.each_result())))"
   ],
   "outputs": [
    {
     "output_type": "stream",
     "name": "stdout",
     "text": [
      "[{'from': 'Q6UXB4', 'to': 'CLEC4G'}]\n"
     ]
    }
   ],
   "metadata": {}
  },
  {
   "cell_type": "code",
   "execution_count": null,
   "source": [
    "#convert a set of UniprotIDs to its Coressponding Gene Name\r\n",
    "Protein_set = {\"Q5MIZ7\",\"Q8TBF4\",\"Q9NVL8\",\"O75326\",\"P20933\",\"Q6P1J6\",\"P30939\",\"Q08379\",\"Q2TAC2\",\"P63000\"}\r\n",
    "request_setProteins = IdMappingClient.submit(\r\n",
    "    source=\"UniProtKB_AC-ID\", dest=\"Gene_Name\", ids=Protein_set\r\n",
    ")\r\n",
    "time.sleep(5.0)\r\n",
    "print(list(request_setProteins.each_result()))"
   ],
   "outputs": [],
   "metadata": {}
  },
  {
   "cell_type": "code",
   "execution_count": null,
   "source": [
    "g = nX.Graph()\r\n",
    "for i in range(len(df)):\r\n",
    "    node=df.loc[i,:][0] # first column as node\r\n",
    "    next_node=df.loc[i,:][1]# first column as  node\r\n",
    "    weight=df.loc[i,:][2] # third column as edge cost/weight\r\n",
    "    g.add_weighted_edges_from([(node,next_node,weight)])\r\n",
    "T = nX.minimum_spanning_tree(g)\r\n",
    "print(nX.info(T))\r\n",
    "pos = nX.spring_layout(T)\r\n",
    "plt.figure(figsize=(20,20))\r\n",
    "nX.draw_networkx(T, pos=pos, with_labels=False,\r\n",
    "                 node_color='b',\r\n",
    "                 node_size= 30 )\r\n",
    "plt.axis('off')"
   ],
   "outputs": [],
   "metadata": {}
  },
  {
   "cell_type": "code",
   "execution_count": null,
   "source": [],
   "outputs": [],
   "metadata": {}
  }
 ],
 "metadata": {
  "orig_nbformat": 4,
  "language_info": {
   "name": "python",
   "version": "3.10.6",
   "mimetype": "text/x-python",
   "codemirror_mode": {
    "name": "ipython",
    "version": 3
   },
   "pygments_lexer": "ipython3",
   "nbconvert_exporter": "python",
   "file_extension": ".py"
  },
  "kernelspec": {
   "name": "python3",
   "display_name": "Python 3.10.6 64-bit"
  },
  "interpreter": {
   "hash": "46f52deec83a59e7816093c53e4585ac88cc6d89b2339bf7f71bdff177af4833"
  }
 },
 "nbformat": 4,
 "nbformat_minor": 2
}