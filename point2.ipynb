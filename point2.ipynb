{
 "cells": [
  {
   "cell_type": "code",
   "execution_count": 5,
   "id": "faab218f",
   "metadata": {},
   "outputs": [],
   "source": [
    "import networkx as nx\n",
    "import csv\n",
    "import pandas as pd\n",
    " \n",
    "df = pd.read_csv(r\"C:\\Users\\lenovo\\Downloads\\ppi-analysis-project\\PathLinker_2018_human-ppi-weighted-cap0_75.csv\")\n",
    "#creating a graph from the csv\n",
    "G = nx.from_pandas_edgelist(df, source='tail', target='head', edge_attr='edge_weight', create_using=nx.DiGraph())\n"
   ]
  },
  {
   "cell_type": "code",
   "execution_count": 19,
   "id": "2024dd35",
   "metadata": {
    "collapsed": true
   },
   "outputs": [
    {
     "name": "stdout",
     "output_type": "stream",
     "text": [
      "shortest path is ['Q8TBF4', 'Q15717', 'O15085', 'P55157']\n",
      "number of nodes 4\n",
      "shortest path weight is 1.096188\n",
      "weight of each edge is [0.311133, 0.311133, 0.473922]\n"
     ]
    }
   ],
   "source": [
    "#shortest path\n",
    "path=nx.shortest_path(G,'Q8TBF4','P55157')\n",
    "print(\"shortest path is\",path)\n",
    "\n",
    "# number of nodes\n",
    "nodes= len(path)\n",
    "print(\"number of nodes\" ,nodes)\n",
    "\n",
    "#total cost of the path\n",
    "path_weight=nx.path_weight(G, path, 'edge_weight')\n",
    "print(\"shortest path weight is\",path_weight)\n",
    "\n",
    "#weight of each interaction in the path\n",
    "edges_weight=[]\n",
    "for i in range (nodes -1) :\n",
    "    x= nx.get_edge_attributes(G, \"edge_weight\")\n",
    "    s=x[(path[i], path[i+1])]\n",
    "    edges_weight.append(s)\n",
    "print(\"weight of each edge is\" ,edges_weight)\n"
   ]
  },
  {
   "cell_type": "code",
   "execution_count": 27,
   "id": "3579d64f",
   "metadata": {},
   "outputs": [
    {
     "name": "stdout",
     "output_type": "stream",
     "text": [
      "dijkstra's path ['Q8TBF4', 'Q6I9Y2', 'Q49A88', 'Q96M89', 'O60308', 'P07237', 'P55157']\n",
      "number of nodes 7\n",
      "dijkstra's path weight is 0.6953428\n",
      "weight of each edge is [0.201461, 0.0580353, 0.0580353, 0.0333391, 0.0333391, 0.311133]\n"
     ]
    }
   ],
   "source": [
    "#shortest path using dijkstra's algorithm\n",
    "dij_path=nx.dijkstra_path(G, 'Q8TBF4', 'P55157', weight='edge_weight')\n",
    "print(\"dijkstra's path\" ,dij_path)\n",
    "\n",
    "# number of nodes\n",
    "dij_nodes= len(dij_path)\n",
    "print(\"number of nodes\" ,dij_nodes)\n",
    "\n",
    "#total cost of the path\n",
    "dij_weight=nx.path_weight(G, dij_path, 'edge_weight')\n",
    "print(\"dijkstra's path weight is\",dij_weight )\n",
    "\n",
    "#weight of each interaction in the path\n",
    "dij_edges_weight=[]\n",
    "for i in range (dij_nodes -1) :\n",
    "    x= nx.get_edge_attributes(G, \"edge_weight\")\n",
    "    s=x[(dij_path[i], dij_path[i+1])]\n",
    "    dij_edges_weight.append(s)\n",
    "print(\"weight of each edge is\" ,dij_edges_weight)\n",
    "\n"
   ]
  },
  {
   "cell_type": "code",
   "execution_count": 24,
   "id": "4372987d",
   "metadata": {
    "collapsed": true
   },
   "outputs": [
    {
     "name": "stdout",
     "output_type": "stream",
     "text": [
      "[['Q8TBF4', 'Q15717', 'O15085', 'P55157'], ['Q8TBF4', 'Q15717', 'Q9Y619', 'P55157'], ['Q8TBF4', 'Q15717', 'Q8TAS1', 'P55157'], ['Q8TBF4', 'Q15717', 'Q9Y2J2', 'P55157'], ['Q8TBF4', 'Q15717', 'Q9ULH1', 'P55157'], ['Q8TBF4', 'Q15717', 'Q9NZV5', 'P55157'], ['Q8TBF4', 'Q15717', 'P42566', 'P55157'], ['Q8TBF4', 'Q15717', 'Q14999', 'P55157'], ['Q8TBF4', 'P08865', 'Q14999', 'P55157'], ['Q8TBF4', 'P51148', 'Q14999', 'P55157'], ['Q8TBF4', 'Q8NI27', 'Q14999', 'P55157'], ['Q8TBF4', 'P15880', 'Q14999', 'P55157'], ['Q8TBF4', 'Q15717', 'Q9H1R2', 'P55157'], ['Q8TBF4', 'Q15717', 'Q9NRJ4', 'P55157'], ['Q8TBF4', 'Q15717', 'P62993', 'P55157'], ['Q8TBF4', 'Q8NI27', 'O95433', 'P55157'], ['Q8TBF4', 'P15880', 'O95433', 'P55157'], ['Q8TBF4', 'Q8NI27', 'Q9UJV9', 'P55157'], ['Q8TBF4', 'O43660', 'Q9UJV9', 'P55157'], ['Q8TBF4', 'P15880', 'P35240', 'P55157'], ['Q8TBF4', 'P15880', 'P50570', 'P55157'], ['Q8TBF4', 'P15880', 'O43390', 'P55157'], ['Q8TBF4', 'P15880', 'Q15427', 'P55157']]\n",
      "number of all shortest paths equal = 23\n"
     ]
    }
   ],
   "source": [
    "#list of all shortest paths\n",
    "all_paths=list(nx.all_shortest_paths(G,'Q8TBF4','P55157'))\n",
    "print(all_paths)\n",
    "\n",
    "print(\"number of all shortest paths equal =\", len(all_paths))"
   ]
  },
  {
   "cell_type": "code",
   "execution_count": null,
   "id": "eef943d0",
   "metadata": {},
   "outputs": [],
   "source": []
  }
 ],
 "metadata": {
  "kernelspec": {
   "display_name": "Python 3 (ipykernel)",
   "language": "python",
   "name": "python3"
  },
  "language_info": {
   "codemirror_mode": {
    "name": "ipython",
    "version": 3
   },
   "file_extension": ".py",
   "mimetype": "text/x-python",
   "name": "python",
   "nbconvert_exporter": "python",
   "pygments_lexer": "ipython3",
   "version": "3.9.12"
  }
 },
 "nbformat": 4,
 "nbformat_minor": 5
}
